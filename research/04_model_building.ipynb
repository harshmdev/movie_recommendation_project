{
 "cells": [
  {
   "cell_type": "code",
   "execution_count": 1,
   "metadata": {},
   "outputs": [
    {
     "data": {
      "text/plain": [
       "'x:\\\\CampusX\\\\projects\\\\movie_recommendation_project\\\\research'"
      ]
     },
     "execution_count": 1,
     "metadata": {},
     "output_type": "execute_result"
    }
   ],
   "source": [
    "%pwd\n"
   ]
  },
  {
   "cell_type": "code",
   "execution_count": 2,
   "metadata": {},
   "outputs": [],
   "source": [
    "import os\n",
    "os.chdir(\"../\")"
   ]
  },
  {
   "cell_type": "code",
   "execution_count": 3,
   "metadata": {},
   "outputs": [
    {
     "data": {
      "text/plain": [
       "'x:\\\\CampusX\\\\projects\\\\movie_recommendation_project'"
      ]
     },
     "execution_count": 3,
     "metadata": {},
     "output_type": "execute_result"
    }
   ],
   "source": [
    "%pwd"
   ]
  },
  {
   "cell_type": "code",
   "execution_count": 4,
   "metadata": {},
   "outputs": [],
   "source": [
    "from dataclasses import dataclass\n",
    "from pathlib import Path"
   ]
  },
  {
   "cell_type": "code",
   "execution_count": 5,
   "metadata": {},
   "outputs": [],
   "source": [
    "@dataclass(frozen=True)\n",
    "class ModelBuildingConfig:\n",
    "    root_dir: Path\n",
    "    data_path: Path\n",
    "    model_path: Path"
   ]
  },
  {
   "cell_type": "code",
   "execution_count": 6,
   "metadata": {},
   "outputs": [],
   "source": [
    "from src.movie_recommendation_project.constants import *\n",
    "from src.movie_recommendation_project.utils.common import read_yaml,create_directories"
   ]
  },
  {
   "cell_type": "code",
   "execution_count": 7,
   "metadata": {},
   "outputs": [],
   "source": [
    "class ConfigurationManager:\n",
    "    def __init__(\n",
    "            self,\n",
    "            config_filepath=CONFIG_FILE_PATH,\n",
    "            params_filepath=PARAMS_FILE_PATH):\n",
    "        self.config=read_yaml(config_filepath)\n",
    "        self.params=read_yaml(params_filepath)\n",
    "\n",
    "        create_directories([self.config.artifacts_root])\n",
    "\n",
    "    def get_model_building_config(self)->ModelBuildingConfig:\n",
    "        config=self.config.model_building\n",
    "        create_directories([config.root_dir])\n",
    "        model_building_config=ModelBuildingConfig(\n",
    "            root_dir=config.root_dir,\n",
    "            data_path=config.data_path,\n",
    "            model_path=config.model_path\n",
    "\n",
    "        )\n",
    "        return model_building_config\n",
    "\n"
   ]
  },
  {
   "cell_type": "code",
   "execution_count": 14,
   "metadata": {},
   "outputs": [],
   "source": [
    "import pandas as pd\n",
    "import numpy as np\n",
    "from sklearn.feature_extraction.text import CountVectorizer\n",
    "from gensim.models import Word2Vec\n",
    "from sklearn.metrics.pairwise import cosine_similarity\n",
    "from sklearn.preprocessing import MinMaxScaler\n",
    "import pickle"
   ]
  },
  {
   "cell_type": "code",
   "execution_count": 17,
   "metadata": {},
   "outputs": [],
   "source": [
    "class ModelBuilding:\n",
    "    def __init__(self,config: ModelBuildingConfig):\n",
    "        self.config=config\n",
    "        self.df=pd.read_csv(config.data_path)\n",
    "\n",
    "    def model_builder(self):\n",
    "        plot_sentences = [plot.split() for plot in self.df['plot']]\n",
    "        word2vec_model = Word2Vec(sentences=plot_sentences, vector_size=100, window=5, min_count=1)\n",
    "        plot_vectors = np.array([np.mean([word2vec_model.wv[word] for word in words], axis=0) for words in plot_sentences])\n",
    "\n",
    "        # 1. CountVectorizer on genre, director, star and writer\n",
    "        # Initialize separate CountVectorizer instances for each column\n",
    "        genre_vectorizer = CountVectorizer()\n",
    "        director_vectorizer = CountVectorizer()\n",
    "        star_vectorizer = CountVectorizer()\n",
    "        writer_vectorizer = CountVectorizer()\n",
    "        scaler=MinMaxScaler()\n",
    "\n",
    "        # Vectorize each categorical column separately\n",
    "        genre_vectors = genre_vectorizer.fit_transform(self.df['genre']).toarray()\n",
    "        director_vectors = director_vectorizer.fit_transform(self.df['director']).toarray()\n",
    "        star_vectors = star_vectorizer.fit_transform(self.df['star']).toarray()\n",
    "        writer_vectors = writer_vectorizer.fit_transform(self.df['writer']).toarray()\n",
    "\n",
    "        # Scale the numerical 'year' column\n",
    "        year_scaled = scaler.fit_transform(self.df[['year']])\n",
    "\n",
    "        combined_vectors = np.hstack((plot_vectors,genre_vectors, director_vectors, star_vectors, writer_vectors, year_scaled))\n",
    "        similarity = cosine_similarity(combined_vectors)\n",
    "\n",
    "        pickle.dump(similarity,open(self.config.model_path,\"wb\"))\n",
    "\n"
   ]
  },
  {
   "cell_type": "code",
   "execution_count": 19,
   "metadata": {},
   "outputs": [
    {
     "name": "stdout",
     "output_type": "stream",
     "text": [
      "[2024-08-30 13:31:01,772: INFO :common :yaml file: config\\config.yaml loaded successfully]\n",
      "[2024-08-30 13:31:01,774: INFO :common :yaml file: params.yaml loaded successfully]\n",
      "[2024-08-30 13:31:01,774: INFO :common :created directory at: artifacts]\n",
      "[2024-08-30 13:31:01,786: INFO :common :created directory at: artifacts/model_building]\n",
      "[2024-08-30 13:31:02,176: INFO :word2vec :collecting all words and their counts]\n",
      "[2024-08-30 13:31:02,176: INFO :word2vec :PROGRESS: at sentence #0, processed 0 words, keeping 0 word types]\n",
      "[2024-08-30 13:31:02,241: INFO :word2vec :collected 19492 word types from a corpus of 262447 raw words and 9800 sentences]\n",
      "[2024-08-30 13:31:02,255: INFO :word2vec :Creating a fresh vocabulary]\n",
      "[2024-08-30 13:31:02,342: INFO :utils :Word2Vec lifecycle event {'msg': 'effective_min_count=1 retains 19492 unique words (100.00% of original 19492, drops 0)', 'datetime': '2024-08-30T13:31:02.342669', 'gensim': '4.3.3', 'python': '3.12.4 | packaged by Anaconda, Inc. | (main, Jun 18 2024, 15:03:56) [MSC v.1929 64 bit (AMD64)]', 'platform': 'Windows-10-10.0.19045-SP0', 'event': 'prepare_vocab'}]\n",
      "[2024-08-30 13:31:02,357: INFO :utils :Word2Vec lifecycle event {'msg': 'effective_min_count=1 leaves 262447 word corpus (100.00% of original 262447, drops 0)', 'datetime': '2024-08-30T13:31:02.357276', 'gensim': '4.3.3', 'python': '3.12.4 | packaged by Anaconda, Inc. | (main, Jun 18 2024, 15:03:56) [MSC v.1929 64 bit (AMD64)]', 'platform': 'Windows-10-10.0.19045-SP0', 'event': 'prepare_vocab'}]\n",
      "[2024-08-30 13:31:02,553: INFO :word2vec :deleting the raw counts dictionary of 19492 items]\n",
      "[2024-08-30 13:31:02,569: INFO :word2vec :sample=0.001 downsamples 38 most-common words]\n",
      "[2024-08-30 13:31:02,569: INFO :utils :Word2Vec lifecycle event {'msg': 'downsampling leaves estimated 197577.99850614712 word corpus (75.3%% of prior 262447)', 'datetime': '2024-08-30T13:31:02.569569', 'gensim': '4.3.3', 'python': '3.12.4 | packaged by Anaconda, Inc. | (main, Jun 18 2024, 15:03:56) [MSC v.1929 64 bit (AMD64)]', 'platform': 'Windows-10-10.0.19045-SP0', 'event': 'prepare_vocab'}]\n",
      "[2024-08-30 13:31:02,873: INFO :word2vec :estimated required memory for 19492 words and 100 dimensions: 25339600 bytes]\n",
      "[2024-08-30 13:31:02,873: INFO :word2vec :resetting layer weights]\n",
      "[2024-08-30 13:31:02,898: INFO :utils :Word2Vec lifecycle event {'update': False, 'trim_rule': 'None', 'datetime': '2024-08-30T13:31:02.898320', 'gensim': '4.3.3', 'python': '3.12.4 | packaged by Anaconda, Inc. | (main, Jun 18 2024, 15:03:56) [MSC v.1929 64 bit (AMD64)]', 'platform': 'Windows-10-10.0.19045-SP0', 'event': 'build_vocab'}]\n",
      "[2024-08-30 13:31:02,900: INFO :utils :Word2Vec lifecycle event {'msg': 'training model with 3 workers on 19492 vocabulary and 100 features, using sg=0 hs=0 sample=0.001 negative=5 window=5 shrink_windows=True', 'datetime': '2024-08-30T13:31:02.900314', 'gensim': '4.3.3', 'python': '3.12.4 | packaged by Anaconda, Inc. | (main, Jun 18 2024, 15:03:56) [MSC v.1929 64 bit (AMD64)]', 'platform': 'Windows-10-10.0.19045-SP0', 'event': 'train'}]\n",
      "[2024-08-30 13:31:03,541: INFO :word2vec :EPOCH 0: training on 262447 raw words (197524 effective words) took 0.4s, 526205 effective words/s]\n",
      "[2024-08-30 13:31:03,944: INFO :word2vec :EPOCH 1: training on 262447 raw words (197768 effective words) took 0.4s, 537966 effective words/s]\n",
      "[2024-08-30 13:31:04,210: INFO :word2vec :EPOCH 2: training on 262447 raw words (197589 effective words) took 0.3s, 756876 effective words/s]\n",
      "[2024-08-30 13:31:04,477: INFO :word2vec :EPOCH 3: training on 262447 raw words (197328 effective words) took 0.3s, 783260 effective words/s]\n",
      "[2024-08-30 13:31:04,727: INFO :word2vec :EPOCH 4: training on 262447 raw words (197725 effective words) took 0.2s, 810519 effective words/s]\n",
      "[2024-08-30 13:31:04,727: INFO :utils :Word2Vec lifecycle event {'msg': 'training on 1312235 raw words (987934 effective words) took 1.8s, 541862 effective words/s', 'datetime': '2024-08-30T13:31:04.727099', 'gensim': '4.3.3', 'python': '3.12.4 | packaged by Anaconda, Inc. | (main, Jun 18 2024, 15:03:56) [MSC v.1929 64 bit (AMD64)]', 'platform': 'Windows-10-10.0.19045-SP0', 'event': 'train'}]\n",
      "[2024-08-30 13:31:04,727: INFO :utils :Word2Vec lifecycle event {'params': 'Word2Vec<vocab=19492, vector_size=100, alpha=0.025>', 'datetime': '2024-08-30T13:31:04.727099', 'gensim': '4.3.3', 'python': '3.12.4 | packaged by Anaconda, Inc. | (main, Jun 18 2024, 15:03:56) [MSC v.1929 64 bit (AMD64)]', 'platform': 'Windows-10-10.0.19045-SP0', 'event': 'created'}]\n"
     ]
    }
   ],
   "source": [
    "try:\n",
    "    config = ConfigurationManager()\n",
    "    model_building_config = config.get_model_building_config()\n",
    "    model_building = ModelBuilding(config=model_building_config)\n",
    "    model_building.model_builder()\n",
    "except Exception as e:\n",
    "    raise e"
   ]
  },
  {
   "cell_type": "code",
   "execution_count": null,
   "metadata": {},
   "outputs": [],
   "source": []
  }
 ],
 "metadata": {
  "kernelspec": {
   "display_name": "mrp",
   "language": "python",
   "name": "python3"
  },
  "language_info": {
   "codemirror_mode": {
    "name": "ipython",
    "version": 3
   },
   "file_extension": ".py",
   "mimetype": "text/x-python",
   "name": "python",
   "nbconvert_exporter": "python",
   "pygments_lexer": "ipython3",
   "version": "3.12.4"
  }
 },
 "nbformat": 4,
 "nbformat_minor": 2
}
