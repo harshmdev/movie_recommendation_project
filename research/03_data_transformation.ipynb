{
 "cells": [
  {
   "cell_type": "code",
   "execution_count": 1,
   "metadata": {},
   "outputs": [
    {
     "data": {
      "text/plain": [
       "'x:\\\\CampusX\\\\projects\\\\movie_recommendation_project\\\\research'"
      ]
     },
     "execution_count": 1,
     "metadata": {},
     "output_type": "execute_result"
    }
   ],
   "source": [
    "%pwd"
   ]
  },
  {
   "cell_type": "code",
   "execution_count": 3,
   "metadata": {},
   "outputs": [],
   "source": [
    "import os\n",
    "os.chdir(\"../\")"
   ]
  },
  {
   "cell_type": "code",
   "execution_count": 4,
   "metadata": {},
   "outputs": [
    {
     "data": {
      "text/plain": [
       "'x:\\\\CampusX\\\\projects\\\\movie_recommendation_project'"
      ]
     },
     "execution_count": 4,
     "metadata": {},
     "output_type": "execute_result"
    }
   ],
   "source": [
    "%pwd"
   ]
  },
  {
   "cell_type": "code",
   "execution_count": 5,
   "metadata": {},
   "outputs": [],
   "source": [
    "from dataclasses import dataclass\n",
    "from pathlib import Path"
   ]
  },
  {
   "cell_type": "code",
   "execution_count": 8,
   "metadata": {},
   "outputs": [],
   "source": [
    "@dataclass(frozen=True)\n",
    "class DataTransformationConfig:\n",
    "    root_dir: Path\n",
    "    data_path: Path\n",
    "    transformed_data_path: Path"
   ]
  },
  {
   "cell_type": "code",
   "execution_count": 9,
   "metadata": {},
   "outputs": [],
   "source": [
    "from src.movie_recommendation_project.constants import *\n",
    "from src.movie_recommendation_project.utils.common import read_yaml,create_directories"
   ]
  },
  {
   "cell_type": "code",
   "execution_count": 15,
   "metadata": {},
   "outputs": [],
   "source": [
    "class ConfigurationManager:\n",
    "    def __init__(\n",
    "            self,\n",
    "            config_filepath=CONFIG_FILE_PATH,\n",
    "            params_filepath=PARAMS_FILE_PATH):\n",
    "        self.config=read_yaml(config_filepath)\n",
    "        self.params=read_yaml(params_filepath)\n",
    "\n",
    "        create_directories([self.config.artifacts_root])\n",
    "\n",
    "    def get_data_transformation_config(self)->DataTransformationConfig:\n",
    "        config=self.config.data_transformation\n",
    "        create_directories([config.root_dir])\n",
    "        data_transformation_config=DataTransformationConfig(\n",
    "            root_dir=config.root_dir,\n",
    "            data_path=config.data_path,\n",
    "            transformed_data_path=config.transformed_data_path\n",
    "\n",
    "        )\n",
    "        return data_transformation_config\n",
    "\n"
   ]
  },
  {
   "cell_type": "code",
   "execution_count": 16,
   "metadata": {},
   "outputs": [],
   "source": [
    "import pandas as pd\n",
    "import ast"
   ]
  },
  {
   "cell_type": "code",
   "execution_count": 48,
   "metadata": {},
   "outputs": [
    {
     "name": "stderr",
     "output_type": "stream",
     "text": [
      "<>:17: SyntaxWarning: invalid escape sequence '\\,'\n",
      "<>:17: SyntaxWarning: invalid escape sequence '\\,'\n",
      "C:\\Users\\harsh\\AppData\\Local\\Temp\\ipykernel_3596\\920356686.py:17: SyntaxWarning: invalid escape sequence '\\,'\n",
      "  punc = '''!()-[]}{;:'\"\\,<>./?@#$%^&*_~'''\n"
     ]
    }
   ],
   "source": [
    "class DataTransformation:\n",
    "    def __init__(self,config: DataTransformationConfig):\n",
    "        self.config=config\n",
    "        self.df=pd.read_csv(self.config.data_path)\n",
    "\n",
    "\n",
    "    def str_lst(self,x):\n",
    "        return ast.literal_eval(x)\n",
    "    \n",
    "    def prepare_list(self,x):\n",
    "        l=[]\n",
    "        for i in x:\n",
    "            l.append(i.lower().replace(\" \",\"\"))\n",
    "        return \" \".join(l)\n",
    "    \n",
    "    def puntuation_remover(self,x):\n",
    "        punc = '''!()-[]}{;:'\"\\,<>./?@#$%^&*_~'''\n",
    "        for ele in x:\n",
    "            if ele in punc:\n",
    "                x = x.replace(ele, \" \")\n",
    "        return x\n",
    "    \n",
    "    def prepare_words(self,x):\n",
    "        l=[]\n",
    "        ls=x.split(\" \")\n",
    "        for i in ls:\n",
    "            l.append(i.lower())\n",
    "        return \" \".join(l)\n",
    "    \n",
    "    def transform_data(self):\n",
    "        self.df.drop(\"ID\",axis=1,inplace=True)\n",
    "        new_names={\n",
    "                    \"Movie Name\":\"title\",\n",
    "                    \"Rating\":\"rating\",\n",
    "                    \"Votes\":\"vote\",\n",
    "                    \"Directors\":\"director\",\n",
    "                    \"Stars\":\"star\",\n",
    "                    \"Metascore\":\"metascore\",\n",
    "                    \"Genre\":\"genre\",\n",
    "                    \"Plot\":\"plot\",\n",
    "                    \"Runtime\":\"runtime\",\n",
    "                    \"Gross\":\"gross\",\n",
    "                    \"Link\":\"link\"\n",
    "\n",
    "                }\n",
    "        self.df.rename(columns=new_names,inplace=True)\n",
    "\n",
    "        self.df[\"runtime\"]=self.df[\"runtime\"].str.replace(\" min\",\"\")\n",
    "        self.df[\"genre\"]=self.df[\"genre\"].str.split(\",\")\n",
    "\n",
    "        self.df[\"director\"]=self.df[\"director\"].apply(self.str_lst)\n",
    "        self.df[\"star\"]=self.df[\"star\"].apply(self.str_lst)\n",
    "        self.df[\"director\"]=[i[0] for i in self.df[\"director\"]]\n",
    "        self.df[\"star\"][287]=[\"Sara Cushman\", \"Don Hertzfeldt\"]\n",
    "\n",
    "        self.df.drop([13,27],inplace=True)\n",
    "        self.df.reset_index(drop=True,inplace=True)\n",
    "\n",
    "        self.df[\"year\"]=self.df[\"year\"].astype(str)\n",
    "        self.df=self.df[self.df[\"year\"].str.isdigit()]\n",
    "        self.df[\"year\"]=self.df[\"year\"].astype(int)\n",
    "        self.df=self.df[self.df[\"year\"]>1800]\n",
    "\n",
    "        #self.df[\"genre\"]=self.df[\"genre\"].apply(self.str_lst)\n",
    "        self.df[\"writer\"]=self.df[\"writer\"].apply(self.str_lst)\n",
    "\n",
    "        for col in [\"genre\",\"star\",\"writer\"]:\n",
    "            self.df[col]=self.df[col].apply(self.prepare_list)\n",
    "\n",
    "        self.df[\"plot\"]=self.df[\"plot\"].apply(self.puntuation_remover)\n",
    "\n",
    "        self.df[\"director\"]=self.df[\"director\"].str.replace(\" \",\"\").str.lower()\n",
    "\n",
    "        self.df[\"plot\"]=self.df[\"plot\"].apply(self.prepare_words)\n",
    "\n",
    "        self.df.to_csv(self.config.transformed_data_path,index=False)\n"
   ]
  },
  {
   "cell_type": "code",
   "execution_count": 49,
   "metadata": {},
   "outputs": [
    {
     "name": "stdout",
     "output_type": "stream",
     "text": [
      "[2024-08-30 12:55:14,694: INFO :common :yaml file: config\\config.yaml loaded successfully]\n",
      "[2024-08-30 12:55:14,698: INFO :common :yaml file: params.yaml loaded successfully]\n",
      "[2024-08-30 12:55:14,698: INFO :common :created directory at: artifacts]\n",
      "[2024-08-30 12:55:14,703: INFO :common :created directory at: artifacts/data_transformation]\n"
     ]
    },
    {
     "name": "stderr",
     "output_type": "stream",
     "text": [
      "C:\\Users\\harsh\\AppData\\Local\\Temp\\ipykernel_3596\\920356686.py:54: FutureWarning: ChainedAssignmentError: behaviour will change in pandas 3.0!\n",
      "You are setting values through chained assignment. Currently this works in certain cases, but when using Copy-on-Write (which will become the default behaviour in pandas 3.0) this will never work to update the original DataFrame or Series, because the intermediate object on which we are setting values will behave as a copy.\n",
      "A typical example is when you are setting values in a column of a DataFrame, like:\n",
      "\n",
      "df[\"col\"][row_indexer] = value\n",
      "\n",
      "Use `df.loc[row_indexer, \"col\"] = values` instead, to perform the assignment in a single step and ensure this keeps updating the original `df`.\n",
      "\n",
      "See the caveats in the documentation: https://pandas.pydata.org/pandas-docs/stable/user_guide/indexing.html#returning-a-view-versus-a-copy\n",
      "\n",
      "  self.df[\"star\"][287]=[\"Sara Cushman\", \"Don Hertzfeldt\"]\n",
      "C:\\Users\\harsh\\AppData\\Local\\Temp\\ipykernel_3596\\920356686.py:54: SettingWithCopyWarning: \n",
      "A value is trying to be set on a copy of a slice from a DataFrame\n",
      "\n",
      "See the caveats in the documentation: https://pandas.pydata.org/pandas-docs/stable/user_guide/indexing.html#returning-a-view-versus-a-copy\n",
      "  self.df[\"star\"][287]=[\"Sara Cushman\", \"Don Hertzfeldt\"]\n"
     ]
    }
   ],
   "source": [
    "try:\n",
    "    config = ConfigurationManager()\n",
    "    data_transformation_config = config.get_data_transformation_config()\n",
    "    data_transformation = DataTransformation(config=data_transformation_config)\n",
    "    data_transformation.transform_data()\n",
    "except Exception as e:\n",
    "    raise e"
   ]
  },
  {
   "cell_type": "code",
   "execution_count": null,
   "metadata": {},
   "outputs": [],
   "source": []
  }
 ],
 "metadata": {
  "kernelspec": {
   "display_name": "mrp",
   "language": "python",
   "name": "python3"
  },
  "language_info": {
   "codemirror_mode": {
    "name": "ipython",
    "version": 3
   },
   "file_extension": ".py",
   "mimetype": "text/x-python",
   "name": "python",
   "nbconvert_exporter": "python",
   "pygments_lexer": "ipython3",
   "version": "3.12.4"
  }
 },
 "nbformat": 4,
 "nbformat_minor": 2
}
